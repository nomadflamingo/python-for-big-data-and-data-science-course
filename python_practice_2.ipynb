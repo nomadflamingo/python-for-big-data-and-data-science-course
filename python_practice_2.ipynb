{
  "cells": [
    {
      "cell_type": "markdown",
      "metadata": {
        "id": "p9wwt0LZzNvn"
      },
      "source": [
        "# I. Змінні та памʼять."
      ]
    },
    {
      "cell_type": "markdown",
      "metadata": {
        "id": "HTJrrm95xSV9"
      },
      "source": [
        "1. Створити змінні, що посилаються на два цілих числа, що однакові за значенням, де значення належить проміжку від -5 до 256. Перевірте, чи будуть ці змінні рівні тільки за значенням або ж ще будуть посилатися на один і той самий обʼєкт в памʼяті? Наведіть код та дайте текстову відповідь нижче."
      ]
    },
    {
      "cell_type": "code",
      "execution_count": 1,
      "metadata": {
        "id": "TATni2vzayjG"
      },
      "outputs": [
        {
          "name": "stdout",
          "output_type": "stream",
          "text": [
            "Numbers are equal by value\n",
            "Numbers refer to the same object\n"
          ]
        }
      ],
      "source": [
        "number1 = 255\n",
        "number2 = 255\n",
        "\n",
        "if (number1 == number2):\n",
        "    print('Numbers are equal by value')\n",
        "else:\n",
        "    print('Numbers are not equal by value')\n",
        "\n",
        "if (id(number1) == id(number2)):\n",
        "    print('Numbers refer to the same object')\n",
        "else:\n",
        "    print('Numbers do not refer to the same object')"
      ]
    },
    {
      "cell_type": "markdown",
      "metadata": {
        "id": "zfRG_o3WbRdg"
      },
      "source": [
        "Змінні рівні за значенням і ще посилаються на один і той самий об'єкт в пам'яті"
      ]
    },
    {
      "cell_type": "markdown",
      "metadata": {
        "id": "ISORzt6M3vAt"
      },
      "source": [
        "2. За допомогою якої функції можна перевірити належність змінної до вказаного типу даних (напр. чи змінна True посилається на значення булевого та цілочисленого типу)?"
      ]
    },
    {
      "cell_type": "code",
      "execution_count": 2,
      "metadata": {
        "id": "9vL9CFaMbfyo"
      },
      "outputs": [
        {
          "name": "stdout",
          "output_type": "stream",
          "text": [
            "True is an instance of bool: True\n",
            "True is an instance of int: True\n"
          ]
        }
      ],
      "source": [
        "print('True is an instance of bool:', isinstance(True, bool))\n",
        "print('True is an instance of int:', isinstance(True, int))"
      ]
    },
    {
      "cell_type": "markdown",
      "metadata": {
        "id": "tRxugKAxwYLw"
      },
      "source": [
        "# II. Цілі числа та числа з рухомою комою"
      ]
    },
    {
      "cell_type": "markdown",
      "metadata": {
        "id": "NLHkgd5Gybc8"
      },
      "source": [
        "3. Створити дві змінні, що посилаються на будь-які ціле число та число з рухомою комою та продемонструвати такі арифметичні операції: додавання, віднімання, ділення, множення, ділення без залишку, ділення по модулю, приведення до ступеню. Всі результати операцій вивести на екран."
      ]
    },
    {
      "cell_type": "code",
      "execution_count": 4,
      "metadata": {
        "id": "nb8u_3pjb2cA"
      },
      "outputs": [
        {
          "name": "stdout",
          "output_type": "stream",
          "text": [
            "7.5\n",
            "0.5\n",
            "14.0\n",
            "1.1428571428571428\n",
            "1.0\n",
            "0.5\n",
            "128.0\n"
          ]
        }
      ],
      "source": [
        "int1 = 4\n",
        "float1 = 3.5\n",
        "\n",
        "print(int1 + float1)\n",
        "print(int1 - float1)\n",
        "print(int1 * float1)\n",
        "print(int1 / float1)\n",
        "print(int1 // float1)\n",
        "print(int1 % float1)\n",
        "print(int1 ** float1)\n"
      ]
    },
    {
      "cell_type": "markdown",
      "metadata": {
        "id": "1kBClKgPzZnC"
      },
      "source": [
        "4. Використовуючи змінні з вправи 3, продемонструйте механізм явного перетворення типів, де числа з рухомою комою перетворюються на цілі числа. Також визначте змінну, що посилається на значення булевого типу і спробуйте явно привести її до цілого числа."
      ]
    },
    {
      "cell_type": "code",
      "execution_count": 5,
      "metadata": {
        "id": "TbqJbkeUcKsD"
      },
      "outputs": [
        {
          "name": "stdout",
          "output_type": "stream",
          "text": [
            "3\n",
            "1\n"
          ]
        }
      ],
      "source": [
        "float_to_int = int(float1)\n",
        "print(float_to_int)\n",
        "\n",
        "bool1 = True\n",
        "bool_to_int = int(bool1)\n",
        "print(bool_to_int)\n"
      ]
    },
    {
      "cell_type": "markdown",
      "metadata": {
        "id": "EVJ7AflwxrZi"
      },
      "source": [
        "# IІІ. Рядки (String)."
      ]
    },
    {
      "cell_type": "markdown",
      "metadata": {
        "id": "_s5ECzz9zE61"
      },
      "source": [
        "5. Створити пустий рядок двома різними способами."
      ]
    },
    {
      "cell_type": "code",
      "execution_count": null,
      "metadata": {
        "id": "fkZJHu9Scvc-"
      },
      "outputs": [
        {
          "name": "stdout",
          "output_type": "stream",
          "text": [
            "empty string 1: \n",
            "empty string 2: \n"
          ]
        }
      ],
      "source": [
        "empty_str1 = str()\n",
        "empty_str2 = ''\n",
        "\n",
        "print('empty string 1:', empty_str1)\n",
        "print('empty string 2:',  empty_str2)"
      ]
    },
    {
      "cell_type": "markdown",
      "metadata": {
        "id": "4Bdn9J3MzLf_"
      },
      "source": [
        "6. Створити рядок з апострофом. Зробити його сирим. Вивести обидва рядка на екран."
      ]
    },
    {
      "cell_type": "code",
      "execution_count": 6,
      "metadata": {
        "id": "ivji_hsmc0GH"
      },
      "outputs": [
        {
          "name": "stdout",
          "output_type": "stream",
          "text": [
            "this is a string with an apostrophe'\n",
            "this is \\t a raw string\\n\n"
          ]
        }
      ],
      "source": [
        "print('this is a string with an apostrophe\\'')\n",
        "print(r'this is \\t a raw string\\n')"
      ]
    },
    {
      "cell_type": "markdown",
      "metadata": {
        "id": "bg_d8wM4z8dS"
      },
      "source": [
        "7. Створити змінну, що буде посилатися на Ваше прізвище латинкою. Створити форматований рядок, який буде мати вигляд \"My surname is ______\", де на місці нижніх підкреслень буде Ваше прізвище зі змінної."
      ]
    },
    {
      "cell_type": "code",
      "execution_count": 7,
      "metadata": {
        "id": "kuxFgpWndACq"
      },
      "outputs": [
        {
          "name": "stdout",
          "output_type": "stream",
          "text": [
            "My surname is Beimuk\n"
          ]
        }
      ],
      "source": [
        "surname = 'Beimuk'\n",
        "print(f'My surname is {surname}')"
      ]
    },
    {
      "cell_type": "markdown",
      "metadata": {
        "id": "1Nc6RqvQ0hxU"
      },
      "source": [
        "8. Маючи рядок \"My dog is crazy.\" перетворити його на список [\"my\", \"dog\", \"is\", \"crazy\"]"
      ]
    },
    {
      "cell_type": "code",
      "execution_count": 9,
      "metadata": {
        "id": "w1Ya4RqedUhw"
      },
      "outputs": [
        {
          "name": "stdout",
          "output_type": "stream",
          "text": [
            "['my', 'dog', 'is', 'crazy']\n"
          ]
        }
      ],
      "source": [
        "import string\n",
        "\n",
        "input_str = 'My dog is crazy.'\n",
        "no_punctuation = input_str.translate(str.maketrans('', '', string.punctuation))\n",
        "print(no_punctuation.lower().split())"
      ]
    },
    {
      "cell_type": "markdown",
      "metadata": {
        "id": "GYVqN9uP1D4n"
      },
      "source": [
        "# IV. Робота зі списками."
      ]
    },
    {
      "cell_type": "markdown",
      "metadata": {
        "id": "7-DeDunw2sO-"
      },
      "source": [
        "9. Створити список двома різними за синтаксисом способами. За допомогою вбудованої функції обчисліть довжину одного з них."
      ]
    },
    {
      "cell_type": "code",
      "execution_count": 14,
      "metadata": {
        "id": "zxg06Uuxdyoh"
      },
      "outputs": [
        {
          "name": "stdout",
          "output_type": "stream",
          "text": [
            "3\n",
            "4\n"
          ]
        }
      ],
      "source": [
        "l1 = list(('a', 'b', 'c'))\n",
        "l2 = [1,2,3,4]\n",
        "\n",
        "print(len(l1))\n",
        "print(len(l2))"
      ]
    },
    {
      "cell_type": "markdown",
      "metadata": {
        "id": "8vmGUTjL22gI"
      },
      "source": [
        "10. Створіть два списка та за допомогою спеціального методу додайте другий з них в якості останнього елемента першого."
      ]
    },
    {
      "cell_type": "code",
      "execution_count": 16,
      "metadata": {
        "id": "uHtjWYw7d7hm"
      },
      "outputs": [
        {
          "name": "stdout",
          "output_type": "stream",
          "text": [
            "[1, 2, 3, 4, [5, 6, 7, 8]]\n"
          ]
        }
      ],
      "source": [
        "l3 = [1,2,3,4]\n",
        "l4 = [5,6,7,8]\n",
        "l3.append(l4)\n",
        "print(l3)"
      ]
    },
    {
      "cell_type": "markdown",
      "metadata": {
        "id": "JC3BkD-67_--"
      },
      "source": [
        "11. Створіть список, де елементами цього списку також є списки. Отримай перший елемент з останнього рядка та виведи значення на екран."
      ]
    },
    {
      "cell_type": "code",
      "execution_count": null,
      "metadata": {
        "id": "Kz2jZHsGeLlz"
      },
      "outputs": [
        {
          "name": "stdout",
          "output_type": "stream",
          "text": [
            "7\n"
          ]
        }
      ],
      "source": [
        "nested = [[1, 2, 3], [4, 5, 6], [7, 8, 9]]\n",
        "print(nested[-1][0])"
      ]
    },
    {
      "cell_type": "markdown",
      "metadata": {
        "id": "JA47PKTv8zFK"
      },
      "source": [
        "12. Створіть список з десяти елементів різного типу. Отримайте всі елементи, окрім двох перших та двох останніх та збережіть їх в новій змінній."
      ]
    },
    {
      "cell_type": "code",
      "execution_count": 25,
      "metadata": {
        "id": "_rHdUR-ueP4-"
      },
      "outputs": [
        {
          "name": "stdout",
          "output_type": "stream",
          "text": [
            "<class 'bool'>\n",
            "<class 'int'>\n",
            "<class 'float'>\n",
            "<class 'complex'>\n",
            "<class 'str'>\n",
            "<class 'list'>\n",
            "<class 'tuple'>\n",
            "<class 'dict'>\n",
            "<class 'set'>\n",
            "<class 'bytes'>\n"
          ]
        }
      ],
      "source": [
        "l = [True, 1, 1.4, 2 + 3j, 'a', [1,2,3], (1,2), {1: 'a'}, {1,2,3}, b\"a\"]\n",
        "for i in l:\n",
        "    print(type(i))"
      ]
    },
    {
      "cell_type": "markdown",
      "metadata": {
        "id": "pCjR1dJb1Qbi"
      },
      "source": [
        "# V. Робота з кортежами."
      ]
    },
    {
      "cell_type": "markdown",
      "metadata": {
        "id": "fAZCxAX06R_k"
      },
      "source": [
        "14. Створити кортеж з один елементом."
      ]
    },
    {
      "cell_type": "code",
      "execution_count": 67,
      "metadata": {
        "id": "H7d82WkQev3e"
      },
      "outputs": [
        {
          "data": {
            "text/plain": [
              "('abc',)"
            ]
          },
          "execution_count": 67,
          "metadata": {},
          "output_type": "execute_result"
        }
      ],
      "source": [
        "tuple_element1 = 'abc'\n",
        "(tuple_element1,)\n"
      ]
    },
    {
      "cell_type": "markdown",
      "metadata": {
        "id": "8LCtYcmI6w1M"
      },
      "source": [
        "15. Порівняйте список та кортеж. Назвіть схожості та відмінності, випадки використання."
      ]
    },
    {
      "cell_type": "markdown",
      "metadata": {
        "id": "fUsN1Hnue0C6"
      },
      "source": [
        "Список та кортеж схожі тим що обидва можуть виражати послідовність елементів, і ця послідовність може складатись з будь яких типів.\n",
        "\n",
        "Список та кортеж відрізняються тим що в списку можна видаляти елементи й додавати нові, тим самим змінюючи його довжину, кортеж має фіксовану довжину й з нього не можна видаляти й додавати елементи. Також кортеж можна хешувати й використовувати в множині або як ключ в словнику\n",
        "\n",
        "Список варто використовувати коли нам заздалегідь не відома довжина значень яку ми отримаємо в програмі. Наприклад якщо отримуємо вхідні параметри від користувача в консолі\n",
        "\n",
        "Кортеж варто використовувати якщо ми хочемо логічно згрупувати кілька різних типи даних разом для подальшої обробки, і ми заздалегідь знаємо які саме дані ми хочемо отримати. Наприклад, пара (\"ім'я користувача\", вік користувача) для кожного користувача в системі"
      ]
    },
    {
      "cell_type": "markdown",
      "metadata": {
        "id": "m0xrwFijAmDD"
      },
      "source": [
        "16. Створіть кортеж з 11ти елементів чисел з рухомою комою та отримайте кожен парний за індексом елемент в зворотньому порядку. Наприклад, маючи (1.2, 2.3, 3.3, 4.3, 5.3, 6.3, 7.3, 8.3, 9.3, 0.3), отримати (0.3, 8.3, 6.3, 4.3, 2.3). Результат збережіть в нову змінну та виведіть на екран."
      ]
    },
    {
      "cell_type": "code",
      "execution_count": 68,
      "metadata": {
        "id": "p-5DAH6XfAGA"
      },
      "outputs": [
        {
          "name": "stdout",
          "output_type": "stream",
          "text": [
            "11\n"
          ]
        },
        {
          "data": {
            "text/plain": [
              "(13.32, 9.3, 7.3, 5.3, 3.3, 1.2)"
            ]
          },
          "execution_count": 68,
          "metadata": {},
          "output_type": "execute_result"
        }
      ],
      "source": [
        "tup = (1.2, 2.3, 3.3, 4.3, 5.3, 6.3, 7.3, 8.3, 9.3, 0.3, 13.32)\n",
        "print(len(tup))\n",
        "res = tup[::-2]\n",
        "res"
      ]
    },
    {
      "cell_type": "markdown",
      "metadata": {
        "id": "rW_I9dt3x6cW"
      },
      "source": [
        "# VI. Множини (Set)."
      ]
    },
    {
      "cell_type": "markdown",
      "metadata": {
        "id": "zNjRLHLw1Bgg"
      },
      "source": [
        "17. Створити множину без елементів. Після цого за допомогою методу додайте кілька різних елементів до множини. Чи множини є змінним типом даних?"
      ]
    },
    {
      "cell_type": "code",
      "execution_count": 40,
      "metadata": {
        "id": "KOv7zc2Kfo4N"
      },
      "outputs": [
        {
          "data": {
            "text/plain": [
              "{1, 'a'}"
            ]
          },
          "execution_count": 40,
          "metadata": {},
          "output_type": "execute_result"
        }
      ],
      "source": [
        "empty_set = set()\n",
        "empty_set.add('a')\n",
        "empty_set.add(1)\n",
        "empty_set"
      ]
    },
    {
      "cell_type": "markdown",
      "metadata": {
        "id": "vxS6dVYiftZQ"
      },
      "source": [
        "Так, множини є змінним типом даних оскільи в них можна додавати й видаляти елементи без необіхдності створювати нову множину кожен раз"
      ]
    },
    {
      "cell_type": "markdown",
      "metadata": {
        "id": "gHpT0Zw_1HEF"
      },
      "source": [
        "18. Створити множину, маючи список my_list = [1, 1, 2, 67, 67, 8, 9]. Пояснити, чому \"зникли\" деякі елементи."
      ]
    },
    {
      "cell_type": "code",
      "execution_count": 42,
      "metadata": {
        "id": "qCN4uvJ_fxmu"
      },
      "outputs": [
        {
          "data": {
            "text/plain": [
              "{1, 2, 8, 9, 67}"
            ]
          },
          "execution_count": 42,
          "metadata": {},
          "output_type": "execute_result"
        }
      ],
      "source": [
        "my_list = [1, 1, 2, 67, 67, 8, 9]\n",
        "set(my_list)"
      ]
    },
    {
      "cell_type": "markdown",
      "metadata": {
        "id": "tFNc1e20fyny"
      },
      "source": [
        "Зникли елементи які повторюються, оскільки в множині не може бути дублікатів"
      ]
    },
    {
      "cell_type": "markdown",
      "metadata": {
        "id": "SRMkGizS1UwY"
      },
      "source": [
        "19. Створіть дві множини. Продемонстуйте над ними операції: обʼєднання, різниці, пересічі та симетричної різниці. Використовуйте методи, що не змінюють множини, а створюють нові."
      ]
    },
    {
      "cell_type": "code",
      "execution_count": 47,
      "metadata": {
        "id": "h0T-VuDnf3Ri"
      },
      "outputs": [
        {
          "name": "stdout",
          "output_type": "stream",
          "text": [
            "{'f', 'e', 'd', 'a', 'c', 'b'}\n",
            "{'d', 'c'}\n",
            "{'b', 'a'}\n",
            "{'f', 'e', 'a', 'b'}\n"
          ]
        }
      ],
      "source": [
        "x = { 'a', 'b', 'c', 'd' }\n",
        "y = {'c', 'd', 'e', 'f'}\n",
        "\n",
        "print(x | y)\n",
        "print(x & y)\n",
        "print(x - y)\n",
        "print(x ^ y)"
      ]
    },
    {
      "cell_type": "markdown",
      "metadata": {
        "id": "kWc8gkzTx7Ea"
      },
      "source": [
        "# VII. Словники (Dictionary)."
      ]
    },
    {
      "cell_type": "markdown",
      "metadata": {
        "id": "i5FLwj-B2ybQ"
      },
      "source": [
        "20. Створіть пустий словник. До нього додайте чотири пари елементів такі, щоб їхні ключі були різних типів. Чи може список бути ключем? Чому?"
      ]
    },
    {
      "cell_type": "code",
      "execution_count": 62,
      "metadata": {
        "id": "hxgv3BzrgLAV"
      },
      "outputs": [
        {
          "data": {
            "text/plain": [
              "{'a': None, 1: None, ('abc',): None, b'hello': None}"
            ]
          },
          "execution_count": 62,
          "metadata": {},
          "output_type": "execute_result"
        }
      ],
      "source": [
        "empty_dict = {}\n",
        "empty_dict['a'] = None\n",
        "empty_dict[1] = None\n",
        "empty_dict[('abc',)] = None\n",
        "empty_dict[b\"hello\"] = None\n",
        "\n",
        "empty_dict"
      ]
    },
    {
      "cell_type": "markdown",
      "metadata": {
        "id": "zwa7UVN-gR3m"
      },
      "source": [
        "Список елементів не може бути ключем оскільки він є змінним (mutable), і відповідно його не можна захешувати"
      ]
    },
    {
      "cell_type": "markdown",
      "metadata": {
        "id": "WM_pMlJsgoNf"
      },
      "source": [
        "21. Створіть словник, де значенням в одній з пар теж буде словник, який теж має вкладений словник. Виведіть на екран значення, що міститься в словнику, що знаходиться на найнижчому рівні ієрархії вкладеності (найбільш внутрішній)."
      ]
    },
    {
      "cell_type": "code",
      "execution_count": 64,
      "metadata": {
        "id": "60dlP7IHhAy4"
      },
      "outputs": [
        {
          "data": {
            "text/plain": [
              "{'name': 'inner_dict', 'a': 1, 'b': 2, 'c': 3}"
            ]
          },
          "execution_count": 64,
          "metadata": {},
          "output_type": "execute_result"
        }
      ],
      "source": [
        "inner_dict = {\n",
        "    'name': 'inner_dict',\n",
        "    'a': 1,\n",
        "    'b': 2,\n",
        "    'c': 3\n",
        "}\n",
        "\n",
        "mid_dict = {\n",
        "    'name': 'middle_dict',\n",
        "    'inner_dict_key': inner_dict\n",
        "}\n",
        "\n",
        "outer_dict = {\n",
        "    'name': 'outer_dict',\n",
        "    'inner_dict_key': mid_dict\n",
        "}\n",
        "\n",
        "outer_dict['inner_dict_key']['inner_dict_key']\n"
      ]
    },
    {
      "cell_type": "markdown",
      "metadata": {
        "id": "xOZP0hkx6cCr"
      },
      "source": [
        "# Вітаю! Ви велика(ий) молодець, що впоралась(вся). Похваліть себе та побалуйте чимось приємним. Я Вами пишаюся."
      ]
    }
  ],
  "metadata": {
    "colab": {
      "provenance": []
    },
    "kernelspec": {
      "display_name": "base",
      "language": "python",
      "name": "python3"
    },
    "language_info": {
      "codemirror_mode": {
        "name": "ipython",
        "version": 3
      },
      "file_extension": ".py",
      "mimetype": "text/x-python",
      "name": "python",
      "nbconvert_exporter": "python",
      "pygments_lexer": "ipython3",
      "version": "3.11.5"
    }
  },
  "nbformat": 4,
  "nbformat_minor": 0
}
