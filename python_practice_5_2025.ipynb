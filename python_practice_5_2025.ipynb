{
  "cells": [
    {
      "cell_type": "markdown",
      "metadata": {
        "id": "5qV_sehzFCTp"
      },
      "source": [
        "# I. OOP"
      ]
    },
    {
      "cell_type": "markdown",
      "metadata": {
        "id": "tx_U_hOALyfg"
      },
      "source": [
        "1. (6б). Створіть клас Building, додайте три атрибути, один з яких має значення за замовчуванням та два методи на свій розсуд."
      ]
    },
    {
      "cell_type": "code",
      "execution_count": 97,
      "metadata": {
        "id": "-Vf895KaL88N"
      },
      "outputs": [],
      "source": [
        "class Building():\n",
        "    def __init__(self, height_in_meters, material, number_of_floors = 0):\n",
        "        self.height = height_in_meters\n",
        "        self.material = material\n",
        "        self.number_of_floors = number_of_floors\n",
        "\n",
        "    def add_floor(self):\n",
        "        self.number_of_floors += 1\n",
        "\n",
        "    def get_info(self):\n",
        "        return f'Building has height {self.height}, is made of {self.material}, and has {self.number_of_floors} floors'"
      ]
    },
    {
      "cell_type": "markdown",
      "metadata": {
        "id": "X_UlOMB0L93w"
      },
      "source": [
        "2. (2б). Створіть два обʼєкти цього класу, де один з обʼєктів створюється із дефолтним значенням атрибуту. На одному обʼєкті отримайте значення його атрибуту, а на іншому викличте один з його методів."
      ]
    },
    {
      "cell_type": "code",
      "execution_count": 98,
      "metadata": {
        "id": "7gBu0ESOMCpG"
      },
      "outputs": [
        {
          "name": "stdout",
          "output_type": "stream",
          "text": [
            "10\n",
            "Building has height 50, is made of concrete, and has 5 floors\n"
          ]
        }
      ],
      "source": [
        "detached_house = Building(10, 'wood')\n",
        "apartment_complex = Building(50, 'concrete', 5)\n",
        "\n",
        "print(detached_house.height)\n",
        "print(apartment_complex.get_info())"
      ]
    },
    {
      "cell_type": "markdown",
      "metadata": {
        "id": "HoqSCZt1MHn5"
      },
      "source": [
        "3. (5б). Створіть клас, де атрибути мають різні рівні доступу. Спробуйте отримати їхні значення та опишіть результати."
      ]
    },
    {
      "cell_type": "code",
      "execution_count": 99,
      "metadata": {
        "id": "r9b3vJxBMSPV"
      },
      "outputs": [
        {
          "name": "stdout",
          "output_type": "stream",
          "text": [
            "123_ABC\n",
            "groceries\n",
            "'Car' object has no attribute '__engine'\n"
          ]
        }
      ],
      "source": [
        "class Car():\n",
        "    def __init__(self, license_plate, trunk_storage, engine):\n",
        "        self.license_plate = license_plate\n",
        "        self._trunk_storage = trunk_storage\n",
        "        self.__engine = engine\n",
        "\n",
        "bmw = Car('123_ABC', 'groceries', 'V4')\n",
        "print(bmw.license_plate)\n",
        "print(bmw._trunk_storage) \n",
        "try:\n",
        "    print(bmw.__engine)  # this will raise AttributeError because __engine attribute is not accessible outside the class\n",
        "except AttributeError as e:\n",
        "    print(e)\n"
      ]
    },
    {
      "cell_type": "markdown",
      "metadata": {},
      "source": [
        "- `license_plate` -> публічний атрибут, значення якого можна отримувати в будь-який момент\n",
        "- `_trunk_storage` -> нестрогий приватний атрибут. Значення все ще можна отримувати, проте це не бажано й зазвичай мається робити лише в середині класу\n",
        "- `__engine` -> строгий приватний атрибут. Значення можна отримувати лише в середині класу."
      ]
    },
    {
      "cell_type": "markdown",
      "metadata": {
        "id": "5op2m2vgMSkZ"
      },
      "source": [
        "4. (7б). Як ви розумієте термін self? Для чого використовується метод __init __?"
      ]
    },
    {
      "cell_type": "markdown",
      "metadata": {},
      "source": [
        "Термін self використовується для посилання на екземпляр класу, який викликав цей метод. Тобто наприклад якщо ми викликаємо метод `apartment_complex.add_floor()`, то термін self використовується для того щоб отримати посилання на екземпляр `apartment_complex` всередині методу для взаємодії з цим екземпляром\n",
        "\n",
        "Метод `__init__` викликається під час створення нового об'єкта й використовується для визначення логіки ініціалізації об'єкту, наприклад, для визначення атрибутів."
      ]
    },
    {
      "cell_type": "markdown",
      "metadata": {
        "id": "-6X8EGfjMd2y"
      },
      "source": [
        "5. (9б). Створіть клас 3D-фігура без атрибутів, з методом get_volume для отримання об'єму фігури, що повертає 0 та __add __, який приймає self та other в якості аргументів, а повертає суму об'ємів 3d-фігур self та other."
      ]
    },
    {
      "cell_type": "code",
      "execution_count": 100,
      "metadata": {
        "id": "4rvO_wYUMaEr"
      },
      "outputs": [],
      "source": [
        "class Figure_3D():\n",
        "    def get_volume(self):\n",
        "        return 0\n",
        "    \n",
        "    def __add__(self, other):\n",
        "        return self.get_volume() + other.get_volume()"
      ]
    },
    {
      "cell_type": "markdown",
      "metadata": {
        "id": "SFcKnnv5Mo_z"
      },
      "source": [
        "6. (11б). Створіть 2 дочірніх класи від 3d-фігура: Циліндр та Куб, які мають атрибути, необхідні для розрахунку об'єму. Визначте метод get_volume в кожному з них так, щоби вони розраховували об'єм у залежності від формули для кожного типу фігури. Створіть обʼєкт класу Циліндр та обʼєкт класу Куб. Виконайте операцію суми за допомогою оператора + між ними, аби знайти сумарний об'єм."
      ]
    },
    {
      "cell_type": "code",
      "execution_count": 101,
      "metadata": {
        "id": "H3GVNr69Muf3"
      },
      "outputs": [
        {
          "name": "stdout",
          "output_type": "stream",
          "text": [
            "216\n",
            "785.3981633974483\n",
            "1001.3981633974483\n"
          ]
        }
      ],
      "source": [
        "import math\n",
        "\n",
        "class Cylinder(Figure_3D):\n",
        "    '''Class for a Cylinder that inherits the Figure_3d'''\n",
        "    def __init__(self, height, base_radius):\n",
        "        self.height = height\n",
        "        self.base_radius = base_radius\n",
        "\n",
        "    def get_volume(self):\n",
        "        return math.pi * self.base_radius ** 2 * self.height  # V = pi*r^2 *h\n",
        "    \n",
        "class Cube(Figure_3D):\n",
        "    '''Class for a Cube that inherits the Figure_3d'''\n",
        "    def __init__(self, side):\n",
        "        self.side = side\n",
        "    \n",
        "    def get_volume(self):\n",
        "        return self.side ** 3  # V = side^3\n",
        "    \n",
        "cube_x = Cube(6)\n",
        "cylinder_y = Cylinder(height=10, base_radius=5)\n",
        "\n",
        "print(cube_x.get_volume())\n",
        "print(cylinder_y.get_volume())\n",
        "print(cube_x + cylinder_y)\n",
        "    \n"
      ]
    },
    {
      "cell_type": "markdown",
      "metadata": {
        "id": "HCvR206YMvLK"
      },
      "source": [
        "7. (3б). Продемонструйте різницю між isinstance та issubclass."
      ]
    },
    {
      "cell_type": "code",
      "execution_count": 102,
      "metadata": {
        "id": "L_V1bBvDM0GN"
      },
      "outputs": [
        {
          "name": "stdout",
          "output_type": "stream",
          "text": [
            "True\n",
            "True\n",
            "True\n",
            "True\n",
            "True\n"
          ]
        }
      ],
      "source": [
        "# isinstance is used to verify that an instance is of a class (or an instance of a subclass)\n",
        "# issubclass is used to check that a class is a subclass of another class\n",
        "\n",
        "print(isinstance(cube_x, Cube))  # cube is an instance of a class Cube\n",
        "print(isinstance(cube_x, Figure_3D))  # cube is an instance of a subclass of Figure_3D (Cube)\n",
        "\n",
        "print(issubclass(Cube, Figure_3D))  # Cube is a subclass of Figure_3D \n",
        "\n",
        "# corner cases\n",
        "print(isinstance(Cube, type))  # 'Cube' is an instance of type\n",
        "print(isinstance(Cube, object))  # everything in Python is an object\n"
      ]
    },
    {
      "cell_type": "markdown",
      "metadata": {
        "id": "jjsaBZ-iM0Qq"
      },
      "source": [
        "8. (13б). Створіть клас EWallet з приватними атрибутами balance та id. Реалізуйте методи поповнення та зняття коштів, забезпечивши належну інкапсуляцію. Підказка: використовуйте декоратори property та setter."
      ]
    },
    {
      "cell_type": "code",
      "execution_count": 103,
      "metadata": {
        "id": "xCvZ7lh8M7YA"
      },
      "outputs": [
        {
          "name": "stdout",
          "output_type": "stream",
          "text": [
            "Wallet id: abc\n",
            "Wallet balance: 500\n",
            "Wallet balance: 400\n"
          ]
        }
      ],
      "source": [
        "class EWallet():\n",
        "    def __init__(self, balance, id):\n",
        "        self.__balance = balance\n",
        "        self.__id = id\n",
        "\n",
        "    @property\n",
        "    def balance(self):\n",
        "        return self.__balance\n",
        "    \n",
        "    @balance.setter\n",
        "    def balance(self, balance):\n",
        "        if balance < 0:\n",
        "            raise ValueError('Balance cannot be negative')\n",
        "        \n",
        "        self.__balance = balance\n",
        "\n",
        "    # wallet id should be immutable, so there is no setter for id\n",
        "    @property\n",
        "    def id(self):\n",
        "        return self.__id\n",
        "    \n",
        "\n",
        "    def deposit(self, amount):\n",
        "        if amount < 0:\n",
        "            raise ValueError('Deposit cannot be negative')\n",
        "        \n",
        "        self.__balance += amount\n",
        "\n",
        "    def withdraw(self, amount):\n",
        "        if amount < 0:\n",
        "            raise ValueError('Withdraw cannot be negative')\n",
        "    \n",
        "        self.__balance -= amount\n",
        "\n",
        "\n",
        "# Class usage example\n",
        "wallet_x = EWallet(500, 'abc')\n",
        "print(f'Wallet id: {wallet_x.id}')\n",
        "print(f'Wallet balance: {wallet_x.balance}')\n",
        "wallet_x.withdraw(200)\n",
        "wallet_x.deposit(100)\n",
        "\n",
        "print(f'Wallet balance: {wallet_x.balance}')\n"
      ]
    },
    {
      "cell_type": "markdown",
      "metadata": {
        "id": "tIzL2SJTM8ft"
      },
      "source": [
        "9. (11б). Створіть клас ShoppingCart, який містить список об'єктів типу Item. Реалізуйте методи для додавання айтемів, їх видалення та відображення списку айтемів."
      ]
    },
    {
      "cell_type": "code",
      "execution_count": 104,
      "metadata": {
        "id": "HWxfJKLtNAUZ"
      },
      "outputs": [
        {
          "name": "stdout",
          "output_type": "stream",
          "text": [
            "Added: Laptop: ₴1000\n",
            "Added: Mouse: ₴49.99\n",
            "Added: Keyboard: ₴80\n",
            "Shopping Cart Items:\n",
            "Laptop: ₴1000\n",
            "Mouse: ₴49.99\n",
            "Keyboard: ₴80\n",
            "Total: ₴1129.99\n",
            "Removed: Mouse: ₴49.99\n",
            "Shopping Cart Items:\n",
            "Laptop: ₴1000\n",
            "Keyboard: ₴80\n",
            "Total: ₴1080\n"
          ]
        }
      ],
      "source": [
        "class Item:\n",
        "    '''Item with a name and price'''\n",
        "    def __init__(self, name, price):\n",
        "        self.name = name\n",
        "        self.price = price\n",
        "\n",
        "    def __str__(self):\n",
        "        return f'{self.name}: ₴{self.price}'\n",
        "\n",
        "\n",
        "class ShoppingCart:\n",
        "    '''Shopping cart containing multiple items'''\n",
        "    def __init__(self):\n",
        "        self.items = []  # List to store items\n",
        "\n",
        "    def add_item(self, item):\n",
        "        self.items.append(item)\n",
        "        print(f'Added: {item}')\n",
        "\n",
        "    def remove_item(self, item_name):\n",
        "        for item in self.items:\n",
        "            if item.name == item_name:\n",
        "                self.items.remove(item)\n",
        "                print(f'Removed: {item}')\n",
        "                return\n",
        "        print('Item not found')\n",
        "\n",
        "    def display_items(self):\n",
        "        if not self.items:\n",
        "            print('The cart is empty')\n",
        "        else:\n",
        "            print('Shopping Cart Items:')\n",
        "            for item in self.items:\n",
        "                print(item)\n",
        "\n",
        "    def total_price(self):\n",
        "        return sum(item.price for item in self.items)\n",
        "\n",
        "\n",
        "\n",
        "# Example usage\n",
        "cart = ShoppingCart()\n",
        "item1 = Item('Laptop', 1000)\n",
        "item2 = Item('Mouse', 49.99)\n",
        "item3 = Item('Keyboard', 80)\n",
        "\n",
        "cart.add_item(item1)\n",
        "cart.add_item(item2)\n",
        "cart.add_item(item3)\n",
        "\n",
        "cart.display_items()\n",
        "print(f'Total: ₴{cart.total_price()}')\n",
        "\n",
        "cart.remove_item('Mouse')\n",
        "cart.display_items()\n",
        "print(f'Total: ₴{cart.total_price()}')\n"
      ]
    },
    {
      "cell_type": "markdown",
      "metadata": {
        "id": "lmV8pAwwNIqu"
      },
      "source": [
        "10. (13б). Створіть клас Vehicle з атрибутами brand (manufacturer) та production_age. Створіть ще один клас Engine з такими атрибутами, як type (ex. petrol) та size (volume, litres). Створіть клас Car, який успадковує обидва класи Vehicle та Engine. Продемонструйте використання множинної спадковості, створивши обʼєкт класу Car та отримавши mro для цього класу."
      ]
    },
    {
      "cell_type": "code",
      "execution_count": 105,
      "metadata": {
        "id": "R49grKlWNPeN"
      },
      "outputs": [
        {
          "name": "stdout",
          "output_type": "stream",
          "text": [
            "Brand: Toyota, Production Age: 5 years, Engine Type: petrol, Size: 2.5L, Model: Camry\n",
            "[<class '__main__.Car'>, <class '__main__.Vehicle'>, <class '__main__.Engine'>, <class 'object'>]\n"
          ]
        }
      ],
      "source": [
        "class Vehicle:\n",
        "    def __init__(self, brand, production_age):\n",
        "        self.brand = brand\n",
        "        self.production_age = production_age\n",
        "\n",
        "    def get_vehicle_info(self):\n",
        "        return f'Brand: {self.brand}, Production Age: {self.production_age} years'\n",
        "\n",
        "\n",
        "class Engine:\n",
        "    def __init__(self, type, size):\n",
        "        self.type = type\n",
        "        self.size = size\n",
        "\n",
        "    def get_engine_info(self):\n",
        "        return f'Engine Type: {self.type}, Size: {self.size}L'\n",
        "\n",
        "\n",
        "class Car(Vehicle, Engine):\n",
        "    def __init__(self, brand, production_age, type, size, model):\n",
        "        Vehicle.__init__(self, brand, production_age)\n",
        "        Engine.__init__(self, type, size)\n",
        "        self.model = model\n",
        "\n",
        "    def get_car_info(self):\n",
        "        return f'{self.get_vehicle_info()}, {self.get_engine_info()}, Model: {self.model}'\n",
        "\n",
        "# Example usagge\n",
        "car = Car('Toyota', 5, 'petrol', 2.5, 'Camry')\n",
        "print(car.get_car_info())\n",
        "print(Car.mro())  # Car, Vehicle, Engine, object\n"
      ]
    },
    {
      "cell_type": "markdown",
      "metadata": {
        "id": "dIJyUiNBFG8G"
      },
      "source": [
        "# II. Iterator"
      ]
    },
    {
      "cell_type": "markdown",
      "metadata": {
        "id": "13vsm0NyKIzL"
      },
      "source": [
        "11. (4б). Визначте рядок(str) з 4ма різними за значенням символами. Створіть ітератор на основі цього рядка. Викличте 5 разів функцію next на ітераторі, 4ри перших з них огорніть у ф-цію print()."
      ]
    },
    {
      "cell_type": "code",
      "execution_count": 106,
      "metadata": {
        "id": "81ntabAkKuz-"
      },
      "outputs": [
        {
          "name": "stdout",
          "output_type": "stream",
          "text": [
            "a\n",
            "b\n",
            "c\n",
            "d\n",
            "StopIteration exception\n"
          ]
        }
      ],
      "source": [
        "example_string = 'abcd'\n",
        "\n",
        "string_iterator = iter(example_string)\n",
        "\n",
        "print(next(string_iterator))\n",
        "print(next(string_iterator))\n",
        "print(next(string_iterator))\n",
        "print(next(string_iterator))\n",
        "\n",
        "try:\n",
        "    next(string_iterator)  # This will raise StopIteration\n",
        "except StopIteration:\n",
        "    print('StopIteration exception')"
      ]
    },
    {
      "cell_type": "markdown",
      "metadata": {
        "id": "aekWHGXOLRsO"
      },
      "source": [
        "А що якщо викликати цю ж функцію на рядку?"
      ]
    },
    {
      "cell_type": "code",
      "execution_count": 107,
      "metadata": {
        "id": "mxATGsErLV1i"
      },
      "outputs": [
        {
          "name": "stdout",
          "output_type": "stream",
          "text": [
            "'str' object is not an iterator\n"
          ]
        }
      ],
      "source": [
        "# This will cause a TypeError\n",
        "try:\n",
        "    print(next(example_string))\n",
        "except TypeError as e:\n",
        "    print(e)"
      ]
    },
    {
      "cell_type": "markdown",
      "metadata": {
        "id": "XwtMEopwJ4pH"
      },
      "source": [
        " 12. (5б). Опишіть своїми словами в одному реченні, як ви розумієте різницю між ітерабельними обʼєктами та ітераторами (можна на прикладі)."
      ]
    },
    {
      "cell_type": "markdown",
      "metadata": {
        "id": "-sHrODc3KFn8"
      },
      "source": [
        "- Ітерабельинй об'єкт - об'єкт який підтримує операцію взяття ітератора (наприклад, список)\n",
        "- Ітератор - об'єкт що дозволяє проходити по елементах ітерабельного об'єкту й виконувати над ними операції (наприклад ітератор над списком)"
      ]
    },
    {
      "cell_type": "markdown",
      "metadata": {
        "id": "E9qJWmNbK8Gl"
      },
      "source": [
        "13. (11б). Створіть клас, що має визначений Iterator Protocol та при кожному виклику next повертає назву дня тижня, поки вони не вичерпаються. Зверніть увагу, що порядок має значення."
      ]
    },
    {
      "cell_type": "code",
      "execution_count": 108,
      "metadata": {
        "id": "cqx-g_RsLo6I"
      },
      "outputs": [
        {
          "name": "stdout",
          "output_type": "stream",
          "text": [
            "Monday\n",
            "Tuesday\n",
            "Wednesday\n",
            "Thursday\n",
            "Friday\n",
            "Saturday\n",
            "Sunday\n"
          ]
        }
      ],
      "source": [
        "class WeekdaysIterator:\n",
        "    def __init__(self):\n",
        "        self.days = ['Monday', 'Tuesday', 'Wednesday', 'Thursday', 'Friday', 'Saturday', 'Sunday']\n",
        "        self.index = 0  # start index\n",
        "\n",
        "    def __iter__(self):\n",
        "        return self  # returning iterator\n",
        "\n",
        "    def __next__(self):\n",
        "        if self.index >= len(self.days):\n",
        "            raise StopIteration  # when no more days of week, stop iterating\n",
        "        day = self.days[self.index]  # get current week day\n",
        "        self.index += 1 \n",
        "        return day\n",
        "    \n",
        "\n",
        "week_iterator = WeekdaysIterator()\n",
        "for day in week_iterator:\n",
        "    print(day)"
      ]
    },
    {
      "cell_type": "markdown",
      "metadata": {
        "id": "Z3E3S_s1Fv7-"
      },
      "source": [
        "# Вітаю! Ви велика(ий) молодець, що впоралась(вся). Похваліть себе та побалуйте чимось приємним. Я Вами пишаюся."
      ]
    }
  ],
  "metadata": {
    "colab": {
      "provenance": []
    },
    "kernelspec": {
      "display_name": "Python 3",
      "name": "python3"
    },
    "language_info": {
      "codemirror_mode": {
        "name": "ipython",
        "version": 3
      },
      "file_extension": ".py",
      "mimetype": "text/x-python",
      "name": "python",
      "nbconvert_exporter": "python",
      "pygments_lexer": "ipython3",
      "version": "3.11.6"
    }
  },
  "nbformat": 4,
  "nbformat_minor": 0
}
